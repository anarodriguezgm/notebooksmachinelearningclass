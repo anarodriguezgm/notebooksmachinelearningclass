{
 "cells": [
  {
   "cell_type": "markdown",
   "metadata": {},
   "source": [
    "# Exercise 15\n",
    "\n",
    "# Fraud Detection"
   ]
  },
  {
   "cell_type": "markdown",
   "metadata": {},
   "source": [
    "## Introduction\n",
    "\n",
    "- Fraud Detection Dataset from Microsoft Azure: [data](http://gallery.cortanaintelligence.com/Experiment/8e9fe4e03b8b4c65b9ca947c72b8e463)\n",
    "\n",
    "Fraud detection is one of the earliest industrial applications of data mining and machine learning. Fraud detection is typically handled as a binary classification problem, but the class population is unbalanced because instances of fraud are usually very rare compared to the overall volume of transactions. Moreover, when fraudulent transactions are discovered, the business typically takes measures to block the accounts from transacting to prevent further losses. "
   ]
  },
  {
   "cell_type": "code",
   "execution_count": 1,
   "metadata": {},
   "outputs": [],
   "source": [
    "%matplotlib inline\n",
    "import pandas as pd\n",
    "import numpy as np\n",
    "import matplotlib.pyplot as plt\n",
    "from sklearn.model_selection import cross_val_score\n",
    "from sklearn.linear_model import LogisticRegression\n",
    "from sklearn.tree import DecisionTreeClassifier\n",
    "from sklearn import metrics\n"
   ]
  },
  {
   "cell_type": "code",
   "execution_count": 2,
   "metadata": {},
   "outputs": [
    {
     "data": {
      "text/html": [
       "<div>\n",
       "<style scoped>\n",
       "    .dataframe tbody tr th:only-of-type {\n",
       "        vertical-align: middle;\n",
       "    }\n",
       "\n",
       "    .dataframe tbody tr th {\n",
       "        vertical-align: top;\n",
       "    }\n",
       "\n",
       "    .dataframe thead th {\n",
       "        text-align: right;\n",
       "    }\n",
       "</style>\n",
       "<table border=\"1\" class=\"dataframe\">\n",
       "  <thead>\n",
       "    <tr style=\"text-align: right;\">\n",
       "      <th></th>\n",
       "      <th>accountAge</th>\n",
       "      <th>digitalItemCount</th>\n",
       "      <th>sumPurchaseCount1Day</th>\n",
       "      <th>sumPurchaseAmount1Day</th>\n",
       "      <th>sumPurchaseAmount30Day</th>\n",
       "      <th>paymentBillingPostalCode - LogOddsForClass_0</th>\n",
       "      <th>accountPostalCode - LogOddsForClass_0</th>\n",
       "      <th>paymentBillingState - LogOddsForClass_0</th>\n",
       "      <th>accountState - LogOddsForClass_0</th>\n",
       "      <th>paymentInstrumentAgeInAccount</th>\n",
       "      <th>ipState - LogOddsForClass_0</th>\n",
       "      <th>transactionAmount</th>\n",
       "      <th>transactionAmountUSD</th>\n",
       "      <th>ipPostalCode - LogOddsForClass_0</th>\n",
       "      <th>localHour - LogOddsForClass_0</th>\n",
       "      <th>Label</th>\n",
       "    </tr>\n",
       "  </thead>\n",
       "  <tbody>\n",
       "    <tr>\n",
       "      <th>0</th>\n",
       "      <td>2000</td>\n",
       "      <td>0</td>\n",
       "      <td>0</td>\n",
       "      <td>0.00</td>\n",
       "      <td>720.25</td>\n",
       "      <td>5.064533</td>\n",
       "      <td>0.421214</td>\n",
       "      <td>1.312186</td>\n",
       "      <td>0.566395</td>\n",
       "      <td>3279.574306</td>\n",
       "      <td>1.218157</td>\n",
       "      <td>599.00</td>\n",
       "      <td>626.164650</td>\n",
       "      <td>1.259543</td>\n",
       "      <td>4.745402</td>\n",
       "      <td>0</td>\n",
       "    </tr>\n",
       "    <tr>\n",
       "      <th>1</th>\n",
       "      <td>62</td>\n",
       "      <td>1</td>\n",
       "      <td>1</td>\n",
       "      <td>1185.44</td>\n",
       "      <td>2530.37</td>\n",
       "      <td>0.538996</td>\n",
       "      <td>0.481838</td>\n",
       "      <td>4.401370</td>\n",
       "      <td>4.500157</td>\n",
       "      <td>61.970139</td>\n",
       "      <td>4.035601</td>\n",
       "      <td>1185.44</td>\n",
       "      <td>1185.440000</td>\n",
       "      <td>3.981118</td>\n",
       "      <td>4.921349</td>\n",
       "      <td>0</td>\n",
       "    </tr>\n",
       "    <tr>\n",
       "      <th>2</th>\n",
       "      <td>2000</td>\n",
       "      <td>0</td>\n",
       "      <td>0</td>\n",
       "      <td>0.00</td>\n",
       "      <td>0.00</td>\n",
       "      <td>5.064533</td>\n",
       "      <td>5.096396</td>\n",
       "      <td>3.056357</td>\n",
       "      <td>3.155226</td>\n",
       "      <td>0.000000</td>\n",
       "      <td>3.314186</td>\n",
       "      <td>32.09</td>\n",
       "      <td>32.090000</td>\n",
       "      <td>5.008490</td>\n",
       "      <td>4.742303</td>\n",
       "      <td>0</td>\n",
       "    </tr>\n",
       "    <tr>\n",
       "      <th>3</th>\n",
       "      <td>1</td>\n",
       "      <td>1</td>\n",
       "      <td>0</td>\n",
       "      <td>0.00</td>\n",
       "      <td>0.00</td>\n",
       "      <td>5.064533</td>\n",
       "      <td>5.096396</td>\n",
       "      <td>3.331154</td>\n",
       "      <td>3.331239</td>\n",
       "      <td>0.000000</td>\n",
       "      <td>3.529398</td>\n",
       "      <td>133.28</td>\n",
       "      <td>132.729554</td>\n",
       "      <td>1.324925</td>\n",
       "      <td>4.745402</td>\n",
       "      <td>0</td>\n",
       "    </tr>\n",
       "    <tr>\n",
       "      <th>4</th>\n",
       "      <td>1</td>\n",
       "      <td>1</td>\n",
       "      <td>0</td>\n",
       "      <td>0.00</td>\n",
       "      <td>132.73</td>\n",
       "      <td>5.412885</td>\n",
       "      <td>0.342945</td>\n",
       "      <td>5.563677</td>\n",
       "      <td>4.086965</td>\n",
       "      <td>0.001389</td>\n",
       "      <td>3.529398</td>\n",
       "      <td>543.66</td>\n",
       "      <td>543.660000</td>\n",
       "      <td>2.693451</td>\n",
       "      <td>4.876771</td>\n",
       "      <td>0</td>\n",
       "    </tr>\n",
       "  </tbody>\n",
       "</table>\n",
       "</div>"
      ],
      "text/plain": [
       "   accountAge  digitalItemCount  sumPurchaseCount1Day  sumPurchaseAmount1Day  \\\n",
       "0        2000                 0                     0                   0.00   \n",
       "1          62                 1                     1                1185.44   \n",
       "2        2000                 0                     0                   0.00   \n",
       "3           1                 1                     0                   0.00   \n",
       "4           1                 1                     0                   0.00   \n",
       "\n",
       "   sumPurchaseAmount30Day  paymentBillingPostalCode - LogOddsForClass_0  \\\n",
       "0                  720.25                                      5.064533   \n",
       "1                 2530.37                                      0.538996   \n",
       "2                    0.00                                      5.064533   \n",
       "3                    0.00                                      5.064533   \n",
       "4                  132.73                                      5.412885   \n",
       "\n",
       "   accountPostalCode - LogOddsForClass_0  \\\n",
       "0                               0.421214   \n",
       "1                               0.481838   \n",
       "2                               5.096396   \n",
       "3                               5.096396   \n",
       "4                               0.342945   \n",
       "\n",
       "   paymentBillingState - LogOddsForClass_0  accountState - LogOddsForClass_0  \\\n",
       "0                                 1.312186                          0.566395   \n",
       "1                                 4.401370                          4.500157   \n",
       "2                                 3.056357                          3.155226   \n",
       "3                                 3.331154                          3.331239   \n",
       "4                                 5.563677                          4.086965   \n",
       "\n",
       "   paymentInstrumentAgeInAccount  ipState - LogOddsForClass_0  \\\n",
       "0                    3279.574306                     1.218157   \n",
       "1                      61.970139                     4.035601   \n",
       "2                       0.000000                     3.314186   \n",
       "3                       0.000000                     3.529398   \n",
       "4                       0.001389                     3.529398   \n",
       "\n",
       "   transactionAmount  transactionAmountUSD  ipPostalCode - LogOddsForClass_0  \\\n",
       "0             599.00            626.164650                          1.259543   \n",
       "1            1185.44           1185.440000                          3.981118   \n",
       "2              32.09             32.090000                          5.008490   \n",
       "3             133.28            132.729554                          1.324925   \n",
       "4             543.66            543.660000                          2.693451   \n",
       "\n",
       "   localHour - LogOddsForClass_0  Label  \n",
       "0                       4.745402      0  \n",
       "1                       4.921349      0  \n",
       "2                       4.742303      0  \n",
       "3                       4.745402      0  \n",
       "4                       4.876771      0  "
      ]
     },
     "execution_count": 2,
     "metadata": {},
     "output_type": "execute_result"
    }
   ],
   "source": [
    "import pandas as pd\n",
    "\n",
    "url = 'https://raw.githubusercontent.com/albahnsen/PracticalMachineLearningClass/master/datasets/15_fraud_detection.csv.zip'\n",
    "df = pd.read_csv(url, index_col=0)\n",
    "df.head()"
   ]
  },
  {
   "cell_type": "code",
   "execution_count": 3,
   "metadata": {},
   "outputs": [
    {
     "data": {
      "text/plain": [
       "((138721, 16), 797, 0.0057453449730033666)"
      ]
     },
     "execution_count": 3,
     "metadata": {},
     "output_type": "execute_result"
    }
   ],
   "source": [
    "df.shape, df.Label.sum(), df.Label.mean()"
   ]
  },
  {
   "cell_type": "markdown",
   "metadata": {},
   "source": [
    "# Exercise 15.1\n",
    "\n",
    "Estimate a Logistic Regression and a Decision Tree\n",
    "\n",
    "Evaluate using the following metrics:\n",
    "* Accuracy\n",
    "* F1-Score\n",
    "* F_Beta-Score (Beta=10)\n",
    "\n",
    "Comment about the results"
   ]
  },
  {
   "cell_type": "markdown",
   "metadata": {},
   "source": [
    "**Se desea primero revisar el rango de valores que se encuentra cada una de las variables e identificar de qué tipo es cada columna**"
   ]
  },
  {
   "cell_type": "code",
   "execution_count": 4,
   "metadata": {},
   "outputs": [
    {
     "name": "stdout",
     "output_type": "stream",
     "text": [
      "<class 'pandas.core.frame.DataFrame'>\n",
      "Int64Index: 138721 entries, 0 to 138720\n",
      "Data columns (total 16 columns):\n",
      "accountAge                                      138721 non-null int64\n",
      "digitalItemCount                                138721 non-null int64\n",
      "sumPurchaseCount1Day                            138721 non-null int64\n",
      "sumPurchaseAmount1Day                           138721 non-null float64\n",
      "sumPurchaseAmount30Day                          138721 non-null float64\n",
      "paymentBillingPostalCode - LogOddsForClass_0    138721 non-null float64\n",
      "accountPostalCode - LogOddsForClass_0           138721 non-null float64\n",
      "paymentBillingState - LogOddsForClass_0         138721 non-null float64\n",
      "accountState - LogOddsForClass_0                138721 non-null float64\n",
      "paymentInstrumentAgeInAccount                   138721 non-null float64\n",
      "ipState - LogOddsForClass_0                     138721 non-null float64\n",
      "transactionAmount                               138721 non-null float64\n",
      "transactionAmountUSD                            138721 non-null float64\n",
      "ipPostalCode - LogOddsForClass_0                138721 non-null float64\n",
      "localHour - LogOddsForClass_0                   138721 non-null float64\n",
      "Label                                           138721 non-null int64\n",
      "dtypes: float64(12), int64(4)\n",
      "memory usage: 18.0 MB\n",
      "None\n"
     ]
    }
   ],
   "source": [
    "print(df.info())"
   ]
  },
  {
   "cell_type": "code",
   "execution_count": 5,
   "metadata": {},
   "outputs": [],
   "source": [
    "def draw_histograms(df, variables, n_rows, n_cols):\n",
    "    fig=plt.figure()\n",
    "    fig.set_figheight(25)\n",
    "    fig.set_figwidth(25)\n",
    "    for i, var_name in enumerate(variables):\n",
    "        ax=fig.add_subplot(n_rows,n_cols,i+1)\n",
    "        df[var_name].hist(ax=ax)\n",
    "        ax.set_title(var_name)\n",
    "    plt.show()\n"
   ]
  },
  {
   "cell_type": "code",
   "execution_count": 6,
   "metadata": {},
   "outputs": [
    {
     "data": {
      "image/png": "[encoded data removed]",
      "text/plain": [
       "<Figure size 1800x1800 with 16 Axes>"
      ]
     },
     "metadata": {},
     "output_type": "display_data"
    }
   ],
   "source": [
    "draw_histograms(df, df.columns, 6, 3)"
   ]
  },
  {
   "cell_type": "markdown",
   "metadata": {},
   "source": [
    "**La columna 'Label' está de tipo entero, luego debo crear una nueva columna que sea de tipo boolean.Para la regresión logística se van a estandarizar todas las variables y no se va a tener en cuenta la variable 'transactionAmount' sino la que me informa que el valor de transacción está en dólares**"
   ]
  },
  {
   "cell_type": "code",
   "execution_count": 7,
   "metadata": {},
   "outputs": [
    {
     "data": {
      "text/html": [
       "<div>\n",
       "<style scoped>\n",
       "    .dataframe tbody tr th:only-of-type {\n",
       "        vertical-align: middle;\n",
       "    }\n",
       "\n",
       "    .dataframe tbody tr th {\n",
       "        vertical-align: top;\n",
       "    }\n",
       "\n",
       "    .dataframe thead th {\n",
       "        text-align: right;\n",
       "    }\n",
       "</style>\n",
       "<table border=\"1\" class=\"dataframe\">\n",
       "  <thead>\n",
       "    <tr style=\"text-align: right;\">\n",
       "      <th></th>\n",
       "      <th>accountAge</th>\n",
       "      <th>digitalItemCount</th>\n",
       "      <th>sumPurchaseCount1Day</th>\n",
       "      <th>sumPurchaseAmount1Day</th>\n",
       "      <th>sumPurchaseAmount30Day</th>\n",
       "      <th>paymentBillingPostalCode - LogOddsForClass_0</th>\n",
       "      <th>accountPostalCode - LogOddsForClass_0</th>\n",
       "      <th>paymentBillingState - LogOddsForClass_0</th>\n",
       "      <th>accountState - LogOddsForClass_0</th>\n",
       "      <th>paymentInstrumentAgeInAccount</th>\n",
       "      <th>ipState - LogOddsForClass_0</th>\n",
       "      <th>transactionAmount</th>\n",
       "      <th>transactionAmountUSD</th>\n",
       "      <th>ipPostalCode - LogOddsForClass_0</th>\n",
       "      <th>localHour - LogOddsForClass_0</th>\n",
       "      <th>Label</th>\n",
       "      <th>Fraud</th>\n",
       "    </tr>\n",
       "  </thead>\n",
       "  <tbody>\n",
       "    <tr>\n",
       "      <th>0</th>\n",
       "      <td>2000</td>\n",
       "      <td>0</td>\n",
       "      <td>0</td>\n",
       "      <td>0.00</td>\n",
       "      <td>720.25</td>\n",
       "      <td>5.064533</td>\n",
       "      <td>0.421214</td>\n",
       "      <td>1.312186</td>\n",
       "      <td>0.566395</td>\n",
       "      <td>3279.574306</td>\n",
       "      <td>1.218157</td>\n",
       "      <td>599.00</td>\n",
       "      <td>626.164650</td>\n",
       "      <td>1.259543</td>\n",
       "      <td>4.745402</td>\n",
       "      <td>0</td>\n",
       "      <td>False</td>\n",
       "    </tr>\n",
       "    <tr>\n",
       "      <th>1</th>\n",
       "      <td>62</td>\n",
       "      <td>1</td>\n",
       "      <td>1</td>\n",
       "      <td>1185.44</td>\n",
       "      <td>2530.37</td>\n",
       "      <td>0.538996</td>\n",
       "      <td>0.481838</td>\n",
       "      <td>4.401370</td>\n",
       "      <td>4.500157</td>\n",
       "      <td>61.970139</td>\n",
       "      <td>4.035601</td>\n",
       "      <td>1185.44</td>\n",
       "      <td>1185.440000</td>\n",
       "      <td>3.981118</td>\n",
       "      <td>4.921349</td>\n",
       "      <td>0</td>\n",
       "      <td>False</td>\n",
       "    </tr>\n",
       "    <tr>\n",
       "      <th>2</th>\n",
       "      <td>2000</td>\n",
       "      <td>0</td>\n",
       "      <td>0</td>\n",
       "      <td>0.00</td>\n",
       "      <td>0.00</td>\n",
       "      <td>5.064533</td>\n",
       "      <td>5.096396</td>\n",
       "      <td>3.056357</td>\n",
       "      <td>3.155226</td>\n",
       "      <td>0.000000</td>\n",
       "      <td>3.314186</td>\n",
       "      <td>32.09</td>\n",
       "      <td>32.090000</td>\n",
       "      <td>5.008490</td>\n",
       "      <td>4.742303</td>\n",
       "      <td>0</td>\n",
       "      <td>False</td>\n",
       "    </tr>\n",
       "    <tr>\n",
       "      <th>3</th>\n",
       "      <td>1</td>\n",
       "      <td>1</td>\n",
       "      <td>0</td>\n",
       "      <td>0.00</td>\n",
       "      <td>0.00</td>\n",
       "      <td>5.064533</td>\n",
       "      <td>5.096396</td>\n",
       "      <td>3.331154</td>\n",
       "      <td>3.331239</td>\n",
       "      <td>0.000000</td>\n",
       "      <td>3.529398</td>\n",
       "      <td>133.28</td>\n",
       "      <td>132.729554</td>\n",
       "      <td>1.324925</td>\n",
       "      <td>4.745402</td>\n",
       "      <td>0</td>\n",
       "      <td>False</td>\n",
       "    </tr>\n",
       "    <tr>\n",
       "      <th>4</th>\n",
       "      <td>1</td>\n",
       "      <td>1</td>\n",
       "      <td>0</td>\n",
       "      <td>0.00</td>\n",
       "      <td>132.73</td>\n",
       "      <td>5.412885</td>\n",
       "      <td>0.342945</td>\n",
       "      <td>5.563677</td>\n",
       "      <td>4.086965</td>\n",
       "      <td>0.001389</td>\n",
       "      <td>3.529398</td>\n",
       "      <td>543.66</td>\n",
       "      <td>543.660000</td>\n",
       "      <td>2.693451</td>\n",
       "      <td>4.876771</td>\n",
       "      <td>0</td>\n",
       "      <td>False</td>\n",
       "    </tr>\n",
       "  </tbody>\n",
       "</table>\n",
       "</div>"
      ],
      "text/plain": [
       "   accountAge  digitalItemCount  sumPurchaseCount1Day  sumPurchaseAmount1Day  \\\n",
       "0        2000                 0                     0                   0.00   \n",
       "1          62                 1                     1                1185.44   \n",
       "2        2000                 0                     0                   0.00   \n",
       "3           1                 1                     0                   0.00   \n",
       "4           1                 1                     0                   0.00   \n",
       "\n",
       "   sumPurchaseAmount30Day  paymentBillingPostalCode - LogOddsForClass_0  \\\n",
       "0                  720.25                                      5.064533   \n",
       "1                 2530.37                                      0.538996   \n",
       "2                    0.00                                      5.064533   \n",
       "3                    0.00                                      5.064533   \n",
       "4                  132.73                                      5.412885   \n",
       "\n",
       "   accountPostalCode - LogOddsForClass_0  \\\n",
       "0                               0.421214   \n",
       "1                               0.481838   \n",
       "2                               5.096396   \n",
       "3                               5.096396   \n",
       "4                               0.342945   \n",
       "\n",
       "   paymentBillingState - LogOddsForClass_0  accountState - LogOddsForClass_0  \\\n",
       "0                                 1.312186                          0.566395   \n",
       "1                                 4.401370                          4.500157   \n",
       "2                                 3.056357                          3.155226   \n",
       "3                                 3.331154                          3.331239   \n",
       "4                                 5.563677                          4.086965   \n",
       "\n",
       "   paymentInstrumentAgeInAccount  ipState - LogOddsForClass_0  \\\n",
       "0                    3279.574306                     1.218157   \n",
       "1                      61.970139                     4.035601   \n",
       "2                       0.000000                     3.314186   \n",
       "3                       0.000000                     3.529398   \n",
       "4                       0.001389                     3.529398   \n",
       "\n",
       "   transactionAmount  transactionAmountUSD  ipPostalCode - LogOddsForClass_0  \\\n",
       "0             599.00            626.164650                          1.259543   \n",
       "1            1185.44           1185.440000                          3.981118   \n",
       "2              32.09             32.090000                          5.008490   \n",
       "3             133.28            132.729554                          1.324925   \n",
       "4             543.66            543.660000                          2.693451   \n",
       "\n",
       "   localHour - LogOddsForClass_0  Label  Fraud  \n",
       "0                       4.745402      0  False  \n",
       "1                       4.921349      0  False  \n",
       "2                       4.742303      0  False  \n",
       "3                       4.745402      0  False  \n",
       "4                       4.876771      0  False  "
      ]
     },
     "execution_count": 7,
     "metadata": {},
     "output_type": "execute_result"
    }
   ],
   "source": [
    "df['Fraud']=df['Label']==1\n",
    "df.head()"
   ]
  },
  {
   "cell_type": "code",
   "execution_count": 8,
   "metadata": {},
   "outputs": [],
   "source": [
    "y = df['Fraud'].values \n",
    "X= df.drop(['Fraud','transactionAmount','Label'], axis=1)"
   ]
  },
  {
   "cell_type": "markdown",
   "metadata": {},
   "source": [
    "**Revisemos como se distribuye la variable respuesta**"
   ]
  },
  {
   "cell_type": "code",
   "execution_count": 9,
   "metadata": {},
   "outputs": [
    {
     "name": "stdout",
     "output_type": "stream",
     "text": [
      "La cantidad de transacciones con fraude 797 , y de transacciones no fraude 137924\n"
     ]
    }
   ],
   "source": [
    "print('La cantidad de transacciones con fraude',(y == 1).sum(),', y de transacciones no fraude',(y == 0).sum())"
   ]
  },
  {
   "cell_type": "markdown",
   "metadata": {},
   "source": [
    "**La cantidad de transacciones con fraude no alcanza a ser ni el 1% (0,57%) de los registros de la base**"
   ]
  },
  {
   "cell_type": "markdown",
   "metadata": {},
   "source": [
    "*Regresión Logística*"
   ]
  },
  {
   "cell_type": "code",
   "execution_count": 11,
   "metadata": {},
   "outputs": [
    {
     "name": "stderr",
     "output_type": "stream",
     "text": [
      "C:\\Users\\rodri\\Anaconda3\\lib\\site-packages\\sklearn\\preprocessing\\data.py:645: DataConversionWarning: Data with input dtype int64, float64 were all converted to float64 by StandardScaler.\n",
      "  return self.partial_fit(X, y)\n",
      "C:\\Users\\rodri\\Anaconda3\\lib\\site-packages\\sklearn\\base.py:464: DataConversionWarning: Data with input dtype int64, float64 were all converted to float64 by StandardScaler.\n",
      "  return self.fit(X, **fit_params).transform(X)\n",
      "C:\\Users\\rodri\\Anaconda3\\lib\\site-packages\\ipykernel_launcher.py:9: DataConversionWarning: Data with input dtype int64, float64 were all converted to float64 by StandardScaler.\n",
      "  if __name__ == '__main__':\n"
     ]
    }
   ],
   "source": [
    "from sklearn.model_selection import train_test_split\n",
    "from sklearn.preprocessing import StandardScaler\n",
    "\n",
    "X_train, X_test, y_train, y_test = train_test_split(X, y, test_size=0.30, random_state=1)\n",
    "## Estandarizamos los valores de las variables continuas\n",
    "scaler  =  StandardScaler ()\n",
    "\n",
    "X_train_s = scaler.fit_transform(X_train)\n",
    "X_test_s = scaler.transform (X_test)"
   ]
  },
  {
   "cell_type": "code",
   "execution_count": 12,
   "metadata": {},
   "outputs": [
    {
     "data": {
      "text/plain": [
       "LogisticRegression(C=1000000000.0, class_weight=None, dual=False,\n",
       "          fit_intercept=True, intercept_scaling=1, max_iter=100,\n",
       "          multi_class='warn', n_jobs=None, penalty='l2', random_state=42,\n",
       "          solver='liblinear', tol=0.0001, verbose=0, warm_start=False)"
      ]
     },
     "execution_count": 12,
     "metadata": {},
     "output_type": "execute_result"
    }
   ],
   "source": [
    "logreg = LogisticRegression(solver='liblinear',C=1e9,random_state=42)\n",
    "logreg.fit(X_train_s, y_train)  "
   ]
  },
  {
   "cell_type": "code",
   "execution_count": 13,
   "metadata": {},
   "outputs": [],
   "source": [
    "y_pred_log = logreg.predict(X_test_s) "
   ]
  },
  {
   "cell_type": "code",
   "execution_count": 14,
   "metadata": {},
   "outputs": [
    {
     "name": "stdout",
     "output_type": "stream",
     "text": [
      "0.994112982675349 0.0 0.0\n"
     ]
    },
    {
     "name": "stderr",
     "output_type": "stream",
     "text": [
      "C:\\Users\\rodri\\Anaconda3\\lib\\site-packages\\sklearn\\metrics\\classification.py:1143: UndefinedMetricWarning: F-score is ill-defined and being set to 0.0 due to no predicted samples.\n",
      "  'precision', 'predicted', average, warn_for)\n"
     ]
    }
   ],
   "source": [
    "from sklearn.metrics import accuracy_score\n",
    "from sklearn.metrics import f1_score\n",
    "from sklearn.metrics import fbeta_score\n",
    "\n",
    "Acc_log1=accuracy_score(y_test, y_pred_log)\n",
    "f1s_log1=f1_score(y_test,y_pred_log,average='binary')\n",
    "fbs_log1=fbeta_score(y_test,y_pred_log,average='binary', beta = 10 )\n",
    "\n",
    "print(Acc_log1, f1s_log1,fbs_log1)\n"
   ]
  },
  {
   "cell_type": "markdown",
   "metadata": {},
   "source": [
    "*Árbol de decisión*"
   ]
  },
  {
   "cell_type": "code",
   "execution_count": 15,
   "metadata": {},
   "outputs": [
    {
     "data": {
      "text/plain": [
       "DecisionTreeClassifier(class_weight=None, criterion='gini', max_depth=6,\n",
       "            max_features=None, max_leaf_nodes=10,\n",
       "            min_impurity_decrease=0.0, min_impurity_split=None,\n",
       "            min_samples_leaf=1, min_samples_split=2,\n",
       "            min_weight_fraction_leaf=0.0, presort=False, random_state=1,\n",
       "            splitter='best')"
      ]
     },
     "execution_count": 15,
     "metadata": {},
     "output_type": "execute_result"
    }
   ],
   "source": [
    "treecl = DecisionTreeClassifier(max_depth=6,max_leaf_nodes=10,random_state=1)\n",
    "treecl.fit(X_train, y_train)\n"
   ]
  },
  {
   "cell_type": "code",
   "execution_count": 16,
   "metadata": {},
   "outputs": [
    {
     "name": "stdout",
     "output_type": "stream",
     "text": [
      "En la base de test--> Positivos predichos 7 , de todos los positivos reales: 245\n"
     ]
    }
   ],
   "source": [
    "y_pred_tree = treecl.predict(X_test)\n",
    "print('En la base de test--> Positivos predichos',(y_pred_tree==1).sum(),', de todos los positivos reales:',(y_test==1).sum())"
   ]
  },
  {
   "cell_type": "code",
   "execution_count": 17,
   "metadata": {},
   "outputs": [
    {
     "name": "stdout",
     "output_type": "stream",
     "text": [
      "0.9940889540332076 0.023809523809523808 0.01236381442036969\n"
     ]
    }
   ],
   "source": [
    "Acc_tree1=accuracy_score(y_test, y_pred_tree)\n",
    "f1s_tree1=f1_score(y_test,y_pred_tree,average='binary')\n",
    "fbs_tree1=fbeta_score(y_test,y_pred_tree,average='binary', beta = 10 )\n",
    "\n",
    "print(Acc_tree1, f1s_tree1,fbs_tree1)"
   ]
  },
  {
   "cell_type": "markdown",
   "metadata": {},
   "source": [
    "**Consistentemente como la base está tan desbalanceada donde entreno el modelo con 99.5% de una clase \n",
    "y 0.5% de otra, entonces por eso el puntaje de clasificación da tan alto, y se evidencia\n",
    "en el puntaje F1, que es la ponderación sobre la precisión 0.99 y los positivos predichos sobre los\n",
    "los positivos reales, da un numero tan reducido y de tal manera podemos concluir que no es correcto y se\n",
    "debe dar un balanceo a los datos**\n"
   ]
  },
  {
   "cell_type": "markdown",
   "metadata": {},
   "source": [
    "# Exercise 15.2\n",
    "\n",
    "Under-sample the negative class using random-under-sampling\n",
    "\n",
    "Which is parameter for target_percentage did you choose?\n",
    "How the results change?\n",
    "\n",
    "**Only apply under-sampling to the training set, evaluate using the whole test set**"
   ]
  },
  {
   "cell_type": "markdown",
   "metadata": {},
   "source": [
    "*Se emplea la función vista en el notebook de clase N° 15*"
   ]
  },
  {
   "cell_type": "code",
   "execution_count": 18,
   "metadata": {},
   "outputs": [],
   "source": [
    "def UnderSampling(X, y, target_percentage=0.5, seed=None):\n",
    "    # Assuming minority class is the positive\n",
    "    n_samples = y.shape[0]\n",
    "    n_samples_0 = (y == 0).sum()\n",
    "    n_samples_1 = (y == 1).sum()\n",
    "\n",
    "    n_samples_0_new =  n_samples_1 / target_percentage - n_samples_1\n",
    "    n_samples_0_new_per = n_samples_0_new / n_samples_0\n",
    "\n",
    "    filter_ = y == 0\n",
    "\n",
    "    np.random.seed(seed)\n",
    "    rand_1 = np.random.binomial(n=1, p=n_samples_0_new_per, size=n_samples)\n",
    "    \n",
    "    filter_ = filter_ & rand_1\n",
    "    filter_ = filter_ | (y == 1)\n",
    "    filter_ = filter_.astype(bool)\n",
    "    \n",
    "    return X[filter_], y[filter_]"
   ]
  },
  {
   "cell_type": "markdown",
   "metadata": {},
   "source": [
    "**Se va a usar en la base de entrenamiento, donde se va a reducir los registros con no fraude y se va a probar con diferente porcentaje para mejorar la clasificación.**"
   ]
  },
  {
   "cell_type": "code",
   "execution_count": 19,
   "metadata": {},
   "outputs": [
    {
     "name": "stdout",
     "output_type": "stream",
     "text": [
      "La cantidad de transacciones con fraude en la base de entrenamiento 552 , y de transacciones no fraude 96552\n"
     ]
    }
   ],
   "source": [
    "print('La cantidad de transacciones con fraude en la base de entrenamiento',(y_train == 1).sum(),', y de transacciones no fraude',(y_train == 0).sum())"
   ]
  },
  {
   "cell_type": "markdown",
   "metadata": {},
   "source": [
    "*Regresion Logística*"
   ]
  },
  {
   "cell_type": "code",
   "execution_count": 20,
   "metadata": {},
   "outputs": [
    {
     "name": "stdout",
     "output_type": "stream",
     "text": [
      "En la base de train--> Fraude 552 , No Fraude: 4958\n",
      "Para un porcentaje de: 0.1  tenemos--> 0.9907730014176899 0.04000000000000001 0.03277225714865139 \n",
      "\n",
      "En la base de train--> Fraude 552 , No Fraude: 3101\n",
      "Para un porcentaje de: 0.15  tenemos--> 0.9834923228488358 0.05241379310344827 0.07682145716573259 \n",
      "\n",
      "En la base de train--> Fraude 552 , No Fraude: 2209\n",
      "Para un porcentaje de: 0.2  tenemos--> 0.9727995770958983 0.05351170568561872 0.12698911634120466 \n",
      "\n",
      "En la base de train--> Fraude 552 , No Fraude: 1247\n",
      "Para un porcentaje de: 0.3  tenemos--> 0.9377658168536896 0.04498525073746313 0.22846441947565543 \n",
      "\n",
      "En la base de train--> Fraude 552 , No Fraude: 787\n",
      "Para un porcentaje de: 0.4  tenemos--> 0.8462166902948315 0.030303030303030304 0.32733754658888353 \n",
      "\n",
      "En la base de train--> Fraude 552 , No Fraude: 528\n",
      "Para un porcentaje de: 0.5  tenemos--> 0.6266429584064205 0.021659740586827854 0.43281759972095574 \n",
      "\n"
     ]
    }
   ],
   "source": [
    "for target_percentage in [0.1,0.15, 0.2, 0.3, 0.4, 0.5]:\n",
    "    X_porct, y_porct = UnderSampling(X_train_s, y_train, target_percentage, 1)\n",
    "    print('En la base de train--> Fraude',(y_porct==1).sum(),', No Fraude:',(y_porct==0).sum())\n",
    "    logreg.fit(X_porct, y_porct)\n",
    "    y_pred_log = logreg.predict(X_test_s)\n",
    "    Acc_log2=accuracy_score(y_test, y_pred_log)\n",
    "    f1s_log2=f1_score(y_test,y_pred_log,average='binary')\n",
    "    fbs_log2=fbeta_score(y_test,y_pred_log,average='binary', beta = 10 )\n",
    "    print('Para un porcentaje de:',target_percentage,' tenemos-->',Acc_log2, f1s_log2,fbs_log2,'\\n')"
   ]
  },
  {
   "cell_type": "markdown",
   "metadata": {},
   "source": [
    "*Árbol de clasificación*"
   ]
  },
  {
   "cell_type": "code",
   "execution_count": 22,
   "metadata": {},
   "outputs": [
    {
     "name": "stdout",
     "output_type": "stream",
     "text": [
      "En la base de train--> Fraude 552 , No Fraude: 4958\n",
      "Para un porcentaje de: 0.1  tenemos--> 0.9842131821130788 0.12516644474034622 0.1898344397344637 \n",
      "\n",
      "En la base de train--> Fraude 552 , No Fraude: 3101\n",
      "Para un porcentaje de: 0.15  tenemos--> 0.9877934497921522 0.13013698630136986 0.15451507709650147 \n",
      "\n",
      "En la base de train--> Fraude 552 , No Fraude: 2209\n",
      "Para un porcentaje de: 0.2  tenemos--> 0.9649181824735085 0.08521303258145363 0.26567637615566125 \n",
      "\n",
      "En la base de train--> Fraude 552 , No Fraude: 1247\n",
      "Para un porcentaje de: 0.3  tenemos--> 0.8967729533604056 0.04829419583517944 0.3826688449372589 \n",
      "\n",
      "En la base de train--> Fraude 552 , No Fraude: 787\n",
      "Para un porcentaje de: 0.4  tenemos--> 0.8035658504937886 0.03562581101804884 0.4659354759868019 \n",
      "\n",
      "En la base de train--> Fraude 552 , No Fraude: 528\n",
      "Para un porcentaje de: 0.5  tenemos--> 0.7938342504265083 0.03508771929824561 0.4753371345823151 \n",
      "\n"
     ]
    }
   ],
   "source": [
    "for target_percentage in [0.1,0.15, 0.2, 0.3, 0.4, 0.5]:\n",
    "    X_porct, y_porct = UnderSampling(X_train, y_train, target_percentage, 1)\n",
    "    print('En la base de train--> Fraude',(y_porct==1).sum(),', No Fraude:',(y_porct==0).sum())\n",
    "    treecl.fit(X_porct, y_porct)\n",
    "    y_pred_tree = treecl.predict(X_test)\n",
    "    Acc_tree2=accuracy_score(y_test, y_pred_tree)\n",
    "    f1s_tree2=f1_score(y_test,y_pred_tree,average='binary')\n",
    "    fbs_tree2=fbeta_score(y_test,y_pred_tree,average='binary', beta = 10 )\n",
    "    print('Para un porcentaje de:',target_percentage,' tenemos-->',Acc_tree2, f1s_tree2,fbs_tree2,'\\n')\n",
    "    "
   ]
  },
  {
   "cell_type": "markdown",
   "metadata": {},
   "source": [
    "**Tanto para la regresión logistica cómo para el árbol de clasificación, el porcentaje que maximiza los puntajes de precisión en la clasificación y el ponderado entre el total de precisión y los verdaderos predichos, para este caso es 15%: En la base de train--> Fraude 552 , No Fraude 3101**\n",
    "\n",
    "Sigue clasificando mejor el árbol respecto a la regresión!"
   ]
  },
  {
   "cell_type": "markdown",
   "metadata": {},
   "source": [
    "# Exercise 15.3\n",
    "\n",
    "Same analysis using random-over-sampling"
   ]
  },
  {
   "cell_type": "code",
   "execution_count": 23,
   "metadata": {},
   "outputs": [],
   "source": [
    "def OverSampling(X, y, target_percentage=0.5, seed=None):\n",
    "    # Assuming minority class is the positive\n",
    "    n_samples = y.shape[0]\n",
    "    n_samples_0 = (y == 0).sum()\n",
    "    n_samples_1 = (y == 1).sum()\n",
    "\n",
    "    n_samples_1_new =  -target_percentage * n_samples_0 / (target_percentage- 1)\n",
    "\n",
    "    np.random.seed(seed)\n",
    "    filter_ = np.random.choice(X[y == 1].shape[0], int(n_samples_1_new))\n",
    "    # filter_ is within the positives, change to be of all\n",
    "    filter_ = np.nonzero(y == 1)[0][filter_]\n",
    "    \n",
    "    filter_ = np.concatenate((filter_, np.nonzero(y == 0)[0]), axis=0)\n",
    "    \n",
    "    return X[filter_], y[filter_]"
   ]
  },
  {
   "cell_type": "markdown",
   "metadata": {},
   "source": [
    "*Regresión Logística*"
   ]
  },
  {
   "cell_type": "code",
   "execution_count": 25,
   "metadata": {},
   "outputs": [
    {
     "name": "stdout",
     "output_type": "stream",
     "text": [
      "En la base de train--> Fraude 10728 , No Fraude: 96552\n",
      "Para un porcentaje de: 0.1  tenemos--> 0.9925270922940145 0.025078369905956115 0.01644013998535037 \n",
      "\n",
      "En la base de train--> Fraude 17038 , No Fraude: 96552\n",
      "Para un porcentaje de: 0.15  tenemos--> 0.9874330201600308 0.06104129263913824 0.06920038690955989 \n",
      "\n",
      "En la base de train--> Fraude 24138 , No Fraude: 96552\n",
      "Para un porcentaje de: 0.2  tenemos--> 0.9788547949155393 0.06581740976645437 0.1242608247013533 \n",
      "\n",
      "En la base de train--> Fraude 41379 , No Fraude: 96552\n",
      "Para un porcentaje de: 0.3  tenemos--> 0.9449744094961193 0.04583333333333333 0.20840367660851625 \n",
      "\n",
      "En la base de train--> Fraude 64368 , No Fraude: 96552\n",
      "Para un porcentaje de: 0.4  tenemos--> 0.8671456376000192 0.03491010647582475 0.33684631803628606 \n",
      "\n",
      "En la base de train--> Fraude 96552 , No Fraude: 96552\n",
      "Para un porcentaje de: 0.5  tenemos--> 0.6079727034625273 0.02076706080067223 0.4270456545116824 \n",
      "\n"
     ]
    }
   ],
   "source": [
    "for target_percentage in [0.1,0.15, 0.2, 0.3, 0.4, 0.5]:\n",
    "    X_porct, y_porct = OverSampling(X_train_s, y_train, target_percentage, 1)\n",
    "    print('En la base de train--> Fraude',(y_porct==1).sum(),', No Fraude:',(y_porct==0).sum())\n",
    "    logreg.fit(X_porct, y_porct)\n",
    "    y_pred_log = logreg.predict(X_test_s)\n",
    "    Acc_log3=accuracy_score(y_test, y_pred_log)\n",
    "    f1s_log3=f1_score(y_test,y_pred_log,average='binary')\n",
    "    fbs_log3=fbeta_score(y_test,y_pred_log,average='binary', beta = 10 )\n",
    "    print('Para un porcentaje de:',target_percentage,' tenemos-->',Acc_log3, f1s_log3,fbs_log3,'\\n')"
   ]
  },
  {
   "cell_type": "markdown",
   "metadata": {},
   "source": [
    "*Árbol de clasificación*"
   ]
  },
  {
   "cell_type": "code",
   "execution_count": 26,
   "metadata": {},
   "outputs": [
    {
     "name": "stdout",
     "output_type": "stream",
     "text": [
      "En la base de train--> Fraude 10728 , No Fraude: 96552\n",
      "Para un porcentaje de: 0.1  tenemos--> 0.9787586803469736 0.11952191235059763 0.23991448592580863 \n",
      "\n",
      "En la base de train--> Fraude 17038 , No Fraude: 96552\n",
      "Para un porcentaje de: 0.15  tenemos--> 0.9694115385539563 0.10415200562983815 0.2910889546658358 \n",
      "\n",
      "En la base de train--> Fraude 24138 , No Fraude: 96552\n",
      "Para un porcentaje de: 0.2  tenemos--> 0.985390585578009 0.12138728323699421 0.17004048582995956 \n",
      "\n",
      "En la base de train--> Fraude 41379 , No Fraude: 96552\n",
      "Para un porcentaje de: 0.3  tenemos--> 0.9382704183386597 0.06615776081424937 0.34033177812337995 \n",
      "\n",
      "En la base de train--> Fraude 64368 , No Fraude: 96552\n",
      "Para un porcentaje de: 0.4  tenemos--> 0.830309729197203 0.038922155688622756 0.4570135746606335 \n",
      "\n",
      "En la base de train--> Fraude 96552 , No Fraude: 96552\n",
      "Para un porcentaje de: 0.5  tenemos--> 0.8165413172501622 0.03756460355477121 0.4675344849012054 \n",
      "\n"
     ]
    }
   ],
   "source": [
    "for target_percentage in [0.1,0.15, 0.2, 0.3, 0.4, 0.5]:\n",
    "    X_porct, y_porct = OverSampling(X_train_s, y_train, target_percentage, 1)\n",
    "    print('En la base de train--> Fraude',(y_porct==1).sum(),', No Fraude:',(y_porct==0).sum())\n",
    "    treecl.fit(X_porct, y_porct)\n",
    "    y_pred_tree = treecl.predict(X_test_s)\n",
    "    Acc_tree3=accuracy_score(y_test, y_pred_tree)\n",
    "    f1s_tree3=f1_score(y_test,y_pred_tree,average='binary')\n",
    "    fbs_tree3=fbeta_score(y_test,y_pred_tree,average='binary', beta = 10 )\n",
    "    print('Para un porcentaje de:',target_percentage,' tenemos-->',Acc_tree3, f1s_tree3,fbs_tree3,'\\n')\n",
    "    "
   ]
  },
  {
   "cell_type": "markdown",
   "metadata": {},
   "source": [
    "**En esta ocasión el porcentaje que maximiza los puntajes de precisión en la clasificación y el ponderado entre el total de precisión y los verdaderos predichos, es 20%: En la base de train--> Fraude 24138 , No Fraude: 96552**\n",
    "\n",
    "Sin embargo el puntaje F1 score no es cercano a 1 por lo que aún hay oportunidad de mejora en la clasificación del modelo."
   ]
  },
  {
   "cell_type": "markdown",
   "metadata": {},
   "source": [
    "# Exercise 15.4 (3 points)\n",
    "\n",
    "Evaluate the results using SMOTE\n",
    "\n",
    "Which parameters did you choose?"
   ]
  },
  {
   "cell_type": "code",
   "execution_count": 27,
   "metadata": {},
   "outputs": [],
   "source": [
    "from imblearn.over_sampling import SMOTE"
   ]
  },
  {
   "cell_type": "markdown",
   "metadata": {},
   "source": [
    "*Regresión logística con uso de Smote para balanceo de datos donde se juega con el número de vecinos cercanos para crear la observación desde 5 a 10 vecinos, y un pocentaje de balanceo de la clase minoritaria respecto a la mayoritaria desde 10% hasta 50% para identificar qué parámetros soportan mejor pedicción y clasificación ponderada.*"
   ]
  },
  {
   "cell_type": "code",
   "execution_count": 28,
   "metadata": {},
   "outputs": [
    {
     "name": "stdout",
     "output_type": "stream",
     "text": [
      "\n",
      " Para  5  vecinos:\n",
      "En la base de train--> Fraude 9655 , No Fraude: 96552\n",
      "Para un porcentaje de: 0.1  tenemos--> 0.9932960088425403 0.01413427561837456 0.008232129757926481\n",
      "En la base de train--> Fraude 14482 , No Fraude: 96552\n",
      "Para un porcentaje de: 0.15  tenemos--> 0.9908450873441141 0.04030226700251889 0.0327762453350641\n",
      "En la base de train--> Fraude 19310 , No Fraude: 96552\n",
      "Para un porcentaje de: 0.2  tenemos--> 0.9858951870629791 0.05169628432956381 0.06496743587681918\n",
      "En la base de train--> Fraude 28965 , No Fraude: 96552\n",
      "Para un porcentaje de: 0.3  tenemos--> 0.971453973135978 0.06012658227848102 0.15039774285826246\n",
      "En la base de train--> Fraude 38620 , No Fraude: 96552\n",
      "Para un porcentaje de: 0.4  tenemos--> 0.9518706297907106 0.05026078710289237 0.2030420270065241\n",
      "En la base de train--> Fraude 48276 , No Fraude: 96552\n",
      "Para un porcentaje de: 0.5  tenemos--> 0.9236610039166687 0.041628959276018104 0.2527747551686616\n",
      "\n",
      " Para  6  vecinos:\n",
      "En la base de train--> Fraude 9655 , No Fraude: 96552\n",
      "Para un porcentaje de: 0.1  tenemos--> 0.993223922916116 0.020833333333333332 0.012345679012345678\n",
      "En la base de train--> Fraude 14482 , No Fraude: 96552\n",
      "Para un porcentaje de: 0.15  tenemos--> 0.9904846577119927 0.04807692307692308 0.040938754002675215\n",
      "En la base de train--> Fraude 19310 , No Fraude: 96552\n",
      "Para un porcentaje de: 0.2  tenemos--> 0.9854146142201504 0.0530421216848674 0.06896690231362468\n",
      "En la base de train--> Fraude 28965 , No Fraude: 96552\n",
      "Para un porcentaje de: 0.3  tenemos--> 0.9707571425138766 0.05731990704879938 0.14628513270179283\n",
      "En la base de train--> Fraude 38620 , No Fraude: 96552\n",
      "Para un porcentaje de: 0.4  tenemos--> 0.9508614268207704 0.04927940492794049 0.2027190789971976\n",
      "En la base de train--> Fraude 48276 , No Fraude: 96552\n",
      "Para un porcentaje de: 0.5  tenemos--> 0.9229401446524257 0.04125560538116591 0.2525\n",
      "\n",
      " Para  7  vecinos:\n",
      "En la base de train--> Fraude 9655 , No Fraude: 96552\n",
      "Para un porcentaje de: 0.1  tenemos--> 0.9930557224211259 0.02693602693602694 0.016454871293580975\n",
      "En la base de train--> Fraude 14482 , No Fraude: 96552\n",
      "Para un porcentaje de: 0.15  tenemos--> 0.9899319989427398 0.049886621315192746 0.044987042436022015\n",
      "En la base de train--> Fraude 19310 , No Fraude: 96552\n",
      "Para un porcentaje de: 0.2  tenemos--> 0.9845495831030588 0.05856515373352855 0.0810008821878258\n",
      "En la base de train--> Fraude 28965 , No Fraude: 96552\n",
      "Para un porcentaje de: 0.3  tenemos--> 0.9694355671960978 0.05497771173848439 0.14597086051326122\n",
      "En la base de train--> Fraude 38620 , No Fraude: 96552\n",
      "Para un porcentaje de: 0.4  tenemos--> 0.949563880145133 0.04979628791308285 0.20990779927448608\n",
      "En la base de train--> Fraude 48276 , No Fraude: 96552\n",
      "Para un porcentaje de: 0.5  tenemos--> 0.9220270562510513 0.041925007381163275 0.2594240648288835\n",
      "\n",
      " Para  8  vecinos:\n",
      "En la base de train--> Fraude 9655 , No Fraude: 96552\n",
      "Para un porcentaje de: 0.1  tenemos--> 0.993392123411106 0.02826855123674912 0.016464259515852963\n",
      "En la base de train--> Fraude 14482 , No Fraude: 96552\n",
      "Para un porcentaje de: 0.15  tenemos--> 0.9904366004277099 0.043269230769230775 0.0368448786024077\n",
      "En la base de train--> Fraude 19310 , No Fraude: 96552\n",
      "Para un porcentaje de: 0.2  tenemos--> 0.9856308719994233 0.053797468354430375 0.0689918431309519\n",
      "En la base de train--> Fraude 28965 , No Fraude: 96552\n",
      "Para un porcentaje de: 0.3  tenemos--> 0.970060311891775 0.05606060606060606 0.146119257086999\n",
      "En la base de train--> Fraude 38620 , No Fraude: 96552\n",
      "Para un porcentaje de: 0.4  tenemos--> 0.9494437369344259 0.04968383017163505 0.2098681476444142\n",
      "En la base de train--> Fraude 48276 , No Fraude: 96552\n",
      "Para un porcentaje de: 0.5  tenemos--> 0.921402311555374 0.04160562554937005 0.2591802804684112\n",
      "\n",
      " Para  9  vecinos:\n",
      "En la base de train--> Fraude 9655 , No Fraude: 96552\n",
      "Para un porcentaje de: 0.1  tenemos--> 0.9931518369896917 0.027303754266211608 0.016457552550105916\n",
      "En la base de train--> Fraude 14482 , No Fraude: 96552\n",
      "Para un porcentaje de: 0.15  tenemos--> 0.9903164572170027 0.04728132387706856 0.04092714158359673\n",
      "En la base de train--> Fraude 19310 , No Fraude: 96552\n",
      "Para un porcentaje de: 0.2  tenemos--> 0.9853184996515847 0.05271317829457364 0.0689558232931727\n",
      "En la base de train--> Fraude 28965 , No Fraude: 96552\n",
      "Para un porcentaje de: 0.3  tenemos--> 0.9701564264603407 0.05909090909090909 0.15401759530791787\n",
      "En la base de train--> Fraude 38620 , No Fraude: 96552\n",
      "Para un porcentaje de: 0.4  tenemos--> 0.9496359660715573 0.0498640072529465 0.20993159744529685\n",
      "En la base de train--> Fraude 48276 , No Fraude: 96552\n",
      "Para un porcentaje de: 0.5  tenemos--> 0.9212581397025255 0.04040995607613469 0.2518612215395736\n",
      "\n",
      " Para  10  vecinos:\n",
      "En la base de train--> Fraude 9655 , No Fraude: 96552\n",
      "Para un porcentaje de: 0.1  tenemos--> 0.9932719802003989 0.014084507042253523 0.00823179428664575\n",
      "En la base de train--> Fraude 14482 , No Fraude: 96552\n",
      "Para un porcentaje de: 0.15  tenemos--> 0.9907489727755484 0.03990024937655861 0.0327709279688514\n",
      "En la base de train--> Fraude 19310 , No Fraude: 96552\n",
      "Para un porcentaje de: 0.2  tenemos--> 0.9858471297786962 0.057600000000000005 0.07307073954983924\n",
      "En la base de train--> Fraude 28965 , No Fraude: 96552\n",
      "Para un porcentaje de: 0.3  tenemos--> 0.9706850565874522 0.058641975308641986 0.15020938515126608\n",
      "En la base de train--> Fraude 38620 , No Fraude: 96552\n",
      "Para un porcentaje de: 0.4  tenemos--> 0.9497080519979816 0.04993191103041308 0.20995540101292617\n",
      "En la base de train--> Fraude 48276 , No Fraude: 96552\n",
      "Para un porcentaje de: 0.5  tenemos--> 0.9214984261239397 0.041654444118509826 0.2592177559282822\n"
     ]
    }
   ],
   "source": [
    "\n",
    "\n",
    "for k in [5,6, 7, 8, 9, 10]:\n",
    "    print('\\n Para ',k,' vecinos:')\n",
    "    for target_percentage in [0.1,0.15, 0.2, 0.3, 0.4, 0.5]:\n",
    "        smt = SMOTE(target_percentage,random_state=1, k_neighbors = k)\n",
    "        X_porct, y_porct = smt.fit_resample(X_train_s, y_train)\n",
    "        print('En la base de train--> Fraude',(y_porct==1).sum(),', No Fraude:',(y_porct==0).sum())\n",
    "        logreg.fit(X_porct, y_porct)\n",
    "        y_pred_log = logreg.predict(X_test_s)\n",
    "        Acc_log4=accuracy_score(y_test, y_pred_log)\n",
    "        f1s_log4=f1_score(y_test,y_pred_log,average='binary')\n",
    "        fbs_log4=fbeta_score(y_test,y_pred_log,average='binary', beta = 10 )\n",
    "        print('Para un porcentaje de:',target_percentage,' tenemos-->',Acc_log4, f1s_log4,fbs_log4)"
   ]
  },
  {
   "cell_type": "markdown",
   "metadata": {},
   "source": [
    "**Los valores de los parámetros que maximiza el puntaje f beta en la regresión logística usando balanceo con Smote son: k=7 y target_percentage= 50% con:**\n",
    "- Accuracy ---> 0.92\n",
    "- F1 score --->0.04\n",
    "- Fbeta Score --->0.25"
   ]
  },
  {
   "cell_type": "markdown",
   "metadata": {},
   "source": [
    "*Uso de Smote en Árbol de clasificación para balanceo de datos donde se juega con el número de vecinos cercanos para crear la observación desde 5 a 10 vecinos, y un pocentaje de balanceo de la clase minoritaria respecto a la mayoritaria desde 10% hasta 50% para identificar qué parámetros soportan mejor pedicción y clasificación ponderada.*"
   ]
  },
  {
   "cell_type": "code",
   "execution_count": 29,
   "metadata": {},
   "outputs": [
    {
     "name": "stdout",
     "output_type": "stream",
     "text": [
      "\n",
      " Para  5  vecinos:\n",
      "En la base de train--> Fraude 9655 , No Fraude: 96552\n",
      "Para un porcentaje de: 0.1  tenemos--> 0.9869764759593436 0.11726384364820848 0.14620612006916242\n",
      "En la base de train--> Fraude 14482 , No Fraude: 96552\n",
      "Para un porcentaje de: 0.15  tenemos--> 0.9831559218588558 0.11378002528445005 0.1814661023716362\n",
      "En la base de train--> Fraude 19310 , No Fraude: 96552\n",
      "Para un porcentaje de: 0.2  tenemos--> 0.9839969243338059 0.11671087533156498 0.1776960294294054\n",
      "En la base de train--> Fraude 28965 , No Fraude: 96552\n",
      "Para un porcentaje de: 0.3  tenemos--> 0.9836364947016845 0.11673151750972764 0.1816111244305922\n",
      "En la base de train--> Fraude 38620 , No Fraude: 96552\n",
      "Para un porcentaje de: 0.4  tenemos--> 0.9653987553163371 0.061277705345501955 0.18407072782969483\n",
      "En la base de train--> Fraude 48276 , No Fraude: 96552\n",
      "Para un porcentaje de: 0.5  tenemos--> 0.9630679770286181 0.07576668671076368 0.24550505440234588\n",
      "\n",
      " Para  6  vecinos:\n",
      "En la base de train--> Fraude 9655 , No Fraude: 96552\n",
      "Para un porcentaje de: 0.1  tenemos--> 0.9880097075714251 0.1199294532627866 0.13834501651760536\n",
      "En la base de train--> Fraude 14482 , No Fraude: 96552\n",
      "Para un porcentaje de: 0.15  tenemos--> 0.9858711584208376 0.12238805970149255 0.1661384152457372\n",
      "En la base de train--> Fraude 19310 , No Fraude: 96552\n",
      "Para un porcentaje de: 0.2  tenemos--> 0.9861835307686763 0.11674347158218126 0.15409941379587247\n",
      "En la base de train--> Fraude 28965 , No Fraude: 96552\n",
      "Para un porcentaje de: 0.3  tenemos--> 0.9827474349424514 0.1113861386138614 0.18134301560068625\n",
      "En la base de train--> Fraude 38620 , No Fraude: 96552\n",
      "Para un porcentaje de: 0.4  tenemos--> 0.9570848451354014 0.055026455026455035 0.20087970931344423\n",
      "En la base de train--> Fraude 48276 , No Fraude: 96552\n",
      "Para un porcentaje de: 0.5  tenemos--> 0.961674315784415 0.07321324811156305 0.24495688327687096\n",
      "\n",
      " Para  7  vecinos:\n",
      "En la base de train--> Fraude 9655 , No Fraude: 96552\n",
      "Para un porcentaje de: 0.1  tenemos--> 0.9871206478121921 0.12131147540983607 0.1502915745023125\n",
      "En la base de train--> Fraude 14482 , No Fraude: 96552\n",
      "Para un porcentaje de: 0.15  tenemos--> 0.984837926808756 0.12239221140472878 0.17794506286537998\n",
      "En la base de train--> Fraude 19310 , No Fraude: 96552\n",
      "Para un porcentaje de: 0.2  tenemos--> 0.986111444842252 0.12158054711246201 0.1621643318749247\n",
      "En la base de train--> Fraude 28965 , No Fraude: 96552\n",
      "Para un porcentaje de: 0.3  tenemos--> 0.9802724848018839 0.0968096809680968 0.17660149419806068\n",
      "En la base de train--> Fraude 38620 , No Fraude: 96552\n",
      "Para un porcentaje de: 0.4  tenemos--> 0.9638849508614268 0.07621389059618931 0.24194420833011357\n",
      "En la base de train--> Fraude 48276 , No Fraude: 96552\n",
      "Para un porcentaje de: 0.5  tenemos--> 0.9482423048273542 0.056091148115688 0.24358442928741006\n",
      "\n",
      " Para  8  vecinos:\n",
      "En la base de train--> Fraude 9655 , No Fraude: 96552\n",
      "Para un porcentaje de: 0.1  tenemos--> 0.9873609342336065 0.11447811447811447 0.13819469596362025\n",
      "En la base de train--> Fraude 14482 , No Fraude: 96552\n",
      "Para un porcentaje de: 0.15  tenemos--> 0.9858711584208376 0.12238805970149255 0.1661384152457372\n",
      "En la base de train--> Fraude 19310 , No Fraude: 96552\n",
      "Para un porcentaje de: 0.2  tenemos--> 0.9836364947016845 0.11673151750972764 0.1816111244305922\n",
      "En la base de train--> Fraude 28965 , No Fraude: 96552\n",
      "Para un porcentaje de: 0.3  tenemos--> 0.9559314703126126 0.0642857142857143 0.24272363150867823\n",
      "En la base de train--> Fraude 38620 , No Fraude: 96552\n",
      "Para un porcentaje de: 0.4  tenemos--> 0.9626114328279309 0.07491082045184305 0.2453252110884065\n",
      "En la base de train--> Fraude 48276 , No Fraude: 96552\n",
      "Para un porcentaje de: 0.5  tenemos--> 0.8662325491986448 0.040999138673557284 0.3998336660013307\n",
      "\n",
      " Para  9  vecinos:\n",
      "En la base de train--> Fraude 9655 , No Fraude: 96552\n",
      "Para un porcentaje de: 0.1  tenemos--> 0.987505106086455 0.12457912457912458 0.1503883456074691\n",
      "En la base de train--> Fraude 14482 , No Fraude: 96552\n",
      "Para un porcentaje de: 0.15  tenemos--> 0.9861835307686763 0.11674347158218126 0.15409941379587247\n",
      "En la base de train--> Fraude 19310 , No Fraude: 96552\n",
      "Para un porcentaje de: 0.2  tenemos--> 0.9836364947016845 0.11673151750972764 0.1816111244305922\n",
      "En la base de train--> Fraude 28965 , No Fraude: 96552\n",
      "Para un porcentaje de: 0.3  tenemos--> 0.9832520364274215 0.11435832274459974 0.18149508825173707\n",
      "En la base de train--> Fraude 38620 , No Fraude: 96552\n",
      "Para un porcentaje de: 0.4  tenemos--> 0.965062354326357 0.07858048162230671 0.24240312778229392\n",
      "En la base de train--> Fraude 48276 , No Fraude: 96552\n",
      "Para un porcentaje de: 0.5  tenemos--> 0.9473292164259798 0.05517241379310345 0.243236124176858\n",
      "\n",
      " Para  10  vecinos:\n",
      "En la base de train--> Fraude 9655 , No Fraude: 96552\n",
      "Para un porcentaje de: 0.1  tenemos--> 0.9877453925078694 0.11764705882352941 0.13828373535215238\n",
      "En la base de train--> Fraude 14482 , No Fraude: 96552\n",
      "Para un porcentaje de: 0.15  tenemos--> 0.9839969243338059 0.11671087533156498 0.1776960294294054\n",
      "En la base de train--> Fraude 19310 , No Fraude: 96552\n",
      "Para un porcentaje de: 0.2  tenemos--> 0.9832520364274215 0.11435832274459974 0.18149508825173707\n",
      "En la base de train--> Fraude 28965 , No Fraude: 96552\n",
      "Para un porcentaje de: 0.3  tenemos--> 0.9762597015642646 0.08687615526802218 0.1873544618542053\n",
      "En la base de train--> Fraude 38620 , No Fraude: 96552\n",
      "Para un porcentaje de: 0.4  tenemos--> 0.9793113391162266 0.09463722397476342 0.18031421090216618\n",
      "En la base de train--> Fraude 48276 , No Fraude: 96552\n",
      "Para un porcentaje de: 0.5  tenemos--> 0.8758920633395006 0.04192172138749768 0.38497605073197055\n"
     ]
    }
   ],
   "source": [
    "\n",
    "for k in [5,6, 7, 8, 9, 10]:\n",
    "    print('\\n Para ',k,' vecinos:')\n",
    "    for target_percentage in [0.1,0.15, 0.2, 0.3, 0.4, 0.5]:\n",
    "        smt = SMOTE(target_percentage,random_state=1, k_neighbors = k)\n",
    "        X_porct, y_porct = smt.fit_resample(X_train_s, y_train)\n",
    "        print('En la base de train--> Fraude',(y_porct==1).sum(),', No Fraude:',(y_porct==0).sum())\n",
    "        treecl.fit(X_porct, y_porct)\n",
    "        y_pred_tree = treecl.predict(X_test_s)\n",
    "        Acc_tree4=accuracy_score(y_test, y_pred_tree)\n",
    "        f1s_tree4=f1_score(y_test,y_pred_tree,average='binary')\n",
    "        fbs_tree4=fbeta_score(y_test,y_pred_tree,average='binary', beta = 10)\n",
    "        print('Para un porcentaje de:',target_percentage,' tenemos-->',Acc_tree4, f1s_tree4,fbs_tree4)"
   ]
  },
  {
   "cell_type": "markdown",
   "metadata": {},
   "source": [
    "**En el arbol de clasificación, los valores de los parámetros que maximiza el puntaje f beta  usando balanceo con Smote son: k=8 y target_percentage= 50% con:**\n",
    "- Accuracy ---> 0.86\n",
    "- F1 score --->0.04\n",
    "- Fbeta Score --->0.39"
   ]
  },
  {
   "cell_type": "markdown",
   "metadata": {},
   "source": [
    "# Exercise 15.5 (3 points)\n",
    "\n",
    "Evaluate the results using Adaptive Synthetic Sampling Approach for Imbalanced\n",
    "Learning (ADASYN)\n",
    "\n",
    "http://www.ele.uri.edu/faculty/he/PDFfiles/adasyn.pdf\n",
    "https://imbalanced-learn.readthedocs.io/en/stable/generated/imblearn.over_sampling.ADASYN.html#rf9172e970ca5-1"
   ]
  },
  {
   "cell_type": "code",
   "execution_count": 30,
   "metadata": {},
   "outputs": [],
   "source": [
    "from imblearn.over_sampling import  ADASYN"
   ]
  },
  {
   "cell_type": "code",
   "execution_count": 32,
   "metadata": {},
   "outputs": [
    {
     "name": "stdout",
     "output_type": "stream",
     "text": [
      "\n",
      " Para  5  vecinos:\n",
      "En la base de train--> Fraude 9434 , No Fraude: 96552\n",
      "Para un porcentaje de: 0.1  tenemos--> 0.9935362952639546 0.014652014652014652 0.008235485975212004\n",
      "En la base de train--> Fraude 14584 , No Fraude: 96552\n",
      "Para un porcentaje de: 0.15  tenemos--> 0.99110940240767 0.046391752577319596 0.03688674268554965\n",
      "En la base de train--> Fraude 19334 , No Fraude: 96552\n",
      "Para un porcentaje de: 0.2  tenemos--> 0.9864959031165149 0.05387205387205387 0.0650327981005272\n",
      "En la base de train--> Fraude 29218 , No Fraude: 96552\n",
      "Para un porcentaje de: 0.3  tenemos--> 0.971285772640988 0.053840063341250986 0.13457167489615174\n",
      "En la base de train--> Fraude 38578 , No Fraude: 96552\n",
      "Para un porcentaje de: 0.4  tenemos--> 0.9523752312756806 0.04527938342967245 0.1802817971212639\n",
      "En la base de train--> Fraude 48462 , No Fraude: 96552\n",
      "Para un porcentaje de: 0.5  tenemos--> 0.9214503688396569 0.03881211408409291 0.24103268730112817\n",
      "\n",
      " Para  6  vecinos:\n",
      "En la base de train--> Fraude 9505 , No Fraude: 96552\n",
      "Para un porcentaje de: 0.1  tenemos--> 0.9934401806953889 0.01444043321299639 0.008234143159954346\n",
      "En la base de train--> Fraude 14256 , No Fraude: 96552\n",
      "Para un porcentaje de: 0.15  tenemos--> 0.9913977461133672 0.0427807486631016 0.03280685370904218\n",
      "En la base de train--> Fraude 19476 , No Fraude: 96552\n",
      "Para un porcentaje de: 0.2  tenemos--> 0.9860633875579691 0.05228758169934641 0.06498572405195643\n",
      "En la base de train--> Fraude 28938 , No Fraude: 96552\n",
      "Para un porcentaje de: 0.3  tenemos--> 0.9713818872095538 0.05250596658711217 0.13064440263405455\n",
      "En la base de train--> Fraude 38400 , No Fraude: 96552\n",
      "Para un porcentaje de: 0.4  tenemos--> 0.952231059422832 0.04606525911708254 0.18406165761798093\n",
      "En la base de train--> Fraude 48398 , No Fraude: 96552\n",
      "Para un porcentaje de: 0.5  tenemos--> 0.9209697959968283 0.03858520900321543 0.24085850556438787\n",
      "\n",
      " Para  7  vecinos:\n",
      "En la base de train--> Fraude 9528 , No Fraude: 96552\n",
      "Para un porcentaje de: 0.1  tenemos--> 0.9934882379796718 0.014545454545454547 0.008234814512841419\n",
      "En la base de train--> Fraude 14295 , No Fraude: 96552\n",
      "Para un porcentaje de: 0.15  tenemos--> 0.9910853737655285 0.04627249357326479 0.03688524590163935\n",
      "En la base de train--> Fraude 19480 , No Fraude: 96552\n",
      "Para un porcentaje de: 0.2  tenemos--> 0.9858951870629791 0.05475040257648954 0.06902235086026691\n",
      "En la base de train--> Fraude 28977 , No Fraude: 96552\n",
      "Para un porcentaje de: 0.3  tenemos--> 0.971333829925271 0.055423594615993665 0.13852966533427385\n",
      "En la base de train--> Fraude 38484 , No Fraude: 96552\n",
      "Para un porcentaje de: 0.4  tenemos--> 0.9518466011485691 0.044804575786463297 0.1801312943497894\n",
      "En la base de train--> Fraude 48457 , No Fraude: 96552\n",
      "Para un porcentaje de: 0.5  tenemos--> 0.9207775668596968 0.03905566890119499 0.24441956223361988\n",
      "\n",
      " Para  8  vecinos:\n",
      "En la base de train--> Fraude 9540 , No Fraude: 96552\n",
      "Para un porcentaje de: 0.1  tenemos--> 0.9934642093375303 0.014492753623188408 0.008234478822714117\n",
      "En la base de train--> Fraude 14306 , No Fraude: 96552\n",
      "Para un porcentaje de: 0.15  tenemos--> 0.9910132878391043 0.04591836734693878 0.03688075627865461\n",
      "En la base de train--> Fraude 19490 , No Fraude: 96552\n",
      "Para un porcentaje de: 0.2  tenemos--> 0.9857750438522719 0.05128205128205128 0.06495437919530528\n",
      "En la base de train--> Fraude 29002 , No Fraude: 96552\n",
      "Para un porcentaje de: 0.3  tenemos--> 0.9709253430088666 0.056162246489859596 0.14238164232290404\n",
      "En la base de train--> Fraude 38514 , No Fraude: 96552\n",
      "Para un porcentaje de: 0.4  tenemos--> 0.9509575413893361 0.04402810304449648 0.17987874194770748\n",
      "En la base de train--> Fraude 48488 , No Fraude: 96552\n",
      "Para un porcentaje de: 0.5  tenemos--> 0.920513251796141 0.0389308541545613 0.24432248980033938\n",
      "\n",
      " Para  9  vecinos:\n",
      "En la base de train--> Fraude 9509 , No Fraude: 96552\n",
      "Para un porcentaje de: 0.1  tenemos--> 0.9934642093375303 0.014492753623188408 0.008234478822714117\n",
      "En la base de train--> Fraude 14308 , No Fraude: 96552\n",
      "Para un porcentaje de: 0.15  tenemos--> 0.9910853737655285 0.05597964376590331 0.04507465108730931\n",
      "En la base de train--> Fraude 19556 , No Fraude: 96552\n",
      "Para un porcentaje de: 0.2  tenemos--> 0.9856549006415647 0.05388272583201268 0.06899461544643574\n",
      "En la base de train--> Fraude 29058 , No Fraude: 96552\n",
      "Para un porcentaje de: 0.3  tenemos--> 0.9707811711560179 0.05736434108527132 0.1462908592679585\n",
      "En la base de train--> Fraude 38560 , No Fraude: 96552\n",
      "Para un porcentaje de: 0.4  tenemos--> 0.9509335127471946 0.044007490636704116 0.17987192603539084\n",
      "En la base de train--> Fraude 48062 , No Fraude: 96552\n",
      "Para un porcentaje de: 0.5  tenemos--> 0.9216185693346469 0.03945818610129564 0.2447289428953745\n",
      "\n",
      " Para  10  vecinos:\n",
      "En la base de train--> Fraude 9533 , No Fraude: 96552\n",
      "Para un porcentaje de: 0.1  tenemos--> 0.9934401806953889 0.01444043321299639 0.008234143159954346\n",
      "En la base de train--> Fraude 14351 , No Fraude: 96552\n",
      "Para un porcentaje de: 0.15  tenemos--> 0.9909652305548213 0.055276381909547735 0.04506550926864884\n",
      "En la base de train--> Fraude 19108 , No Fraude: 96552\n",
      "Para un porcentaje de: 0.2  tenemos--> 0.986111444842252 0.05245901639344263 0.06499095113613515\n",
      "En la base de train--> Fraude 29065 , No Fraude: 96552\n",
      "Para un porcentaje de: 0.3  tenemos--> 0.9707571425138766 0.0543900543900544 0.13839949886461514\n",
      "En la base de train--> Fraude 38647 , No Fraude: 96552\n",
      "Para un porcentaje de: 0.4  tenemos--> 0.9508373981786289 0.045708955223880604 0.18746922231902724\n",
      "En la base de train--> Fraude 48153 , No Fraude: 96552\n",
      "Para un porcentaje de: 0.5  tenemos--> 0.9213302256289497 0.03931924882629108 0.24462278133246576\n"
     ]
    }
   ],
   "source": [
    "for n in [5,6, 7, 8, 9, 10]:\n",
    "    print('\\n Para ',n,' vecinos:')\n",
    "    for target_percentage in [0.1,0.15, 0.2, 0.3, 0.4, 0.5]:\n",
    "        ada = ADASYN(target_percentage,random_state=1, n_neighbors = n)\n",
    "        X_porct, y_porct = ada.fit_resample(X_train_s, y_train)\n",
    "        print('En la base de train--> Fraude',(y_porct==1).sum(),', No Fraude:',(y_porct==0).sum())\n",
    "        logreg.fit(X_porct, y_porct)\n",
    "        y_pred_log = logreg.predict(X_test_s)\n",
    "        Acc_log5=accuracy_score(y_test, y_pred_log)\n",
    "        f1s_log5=f1_score(y_test,y_pred_log,average='binary')\n",
    "        fbs_log5=fbeta_score(y_test,y_pred_log,average='binary', beta = 10)\n",
    "        print('Para un porcentaje de:',target_percentage,' tenemos-->',Acc_log5, f1s_log5,fbs_log5)"
   ]
  },
  {
   "cell_type": "markdown",
   "metadata": {},
   "source": [
    "**En la regresión logística, los valores de los parámetros que maximiza el puntaje f1 usando balanceo con Adasyn son: k=9 y target_percentage= 30% con:**\n",
    "- Accuracy ---> 0.97\n",
    "- F1 score --->0.057\n",
    "- Fbeta Score --->0.14"
   ]
  },
  {
   "cell_type": "code",
   "execution_count": 34,
   "metadata": {},
   "outputs": [
    {
     "name": "stdout",
     "output_type": "stream",
     "text": [
      "\n",
      " Para  5  vecinos:\n",
      "En la base de train--> Fraude 9533 , No Fraude: 96552\n",
      "Para un porcentaje de: 0.1  tenemos--> 0.987505106086455 0.12457912457912458 0.1503883456074691\n",
      "En la base de train--> Fraude 14351 , No Fraude: 96552\n",
      "Para un porcentaje de: 0.15  tenemos--> 0.986111444842252 0.12158054711246201 0.1621643318749247\n",
      "En la base de train--> Fraude 19108 , No Fraude: 96552\n",
      "Para un porcentaje de: 0.2  tenemos--> 0.9836364947016845 0.11673151750972764 0.1816111244305922\n",
      "En la base de train--> Fraude 29065 , No Fraude: 96552\n",
      "Para un porcentaje de: 0.3  tenemos--> 0.9650383256842155 0.07853071564281192 0.24239374467755664\n",
      "En la base de train--> Fraude 38647 , No Fraude: 96552\n",
      "Para un porcentaje de: 0.4  tenemos--> 0.9638609222192854 0.07616707616707616 0.24193486071939108\n",
      "En la base de train--> Fraude 48153 , No Fraude: 96552\n",
      "Para un porcentaje de: 0.5  tenemos--> 0.9482423048273542 0.056091148115688 0.24358442928741006\n",
      "\n",
      " Para  6  vecinos:\n",
      "En la base de train--> Fraude 9533 , No Fraude: 96552\n",
      "Para un porcentaje de: 0.1  tenemos--> 0.987505106086455 0.12457912457912458 0.1503883456074691\n",
      "En la base de train--> Fraude 14351 , No Fraude: 96552\n",
      "Para un porcentaje de: 0.15  tenemos--> 0.986111444842252 0.12158054711246201 0.1621643318749247\n",
      "En la base de train--> Fraude 19108 , No Fraude: 96552\n",
      "Para un porcentaje de: 0.2  tenemos--> 0.9836364947016845 0.11673151750972764 0.1816111244305922\n",
      "En la base de train--> Fraude 29065 , No Fraude: 96552\n",
      "Para un porcentaje de: 0.3  tenemos--> 0.9650383256842155 0.07853071564281192 0.24239374467755664\n",
      "En la base de train--> Fraude 38647 , No Fraude: 96552\n",
      "Para un porcentaje de: 0.4  tenemos--> 0.9638609222192854 0.07616707616707616 0.24193486071939108\n",
      "En la base de train--> Fraude 48153 , No Fraude: 96552\n",
      "Para un porcentaje de: 0.5  tenemos--> 0.9482423048273542 0.056091148115688 0.24358442928741006\n",
      "\n",
      " Para  7  vecinos:\n",
      "En la base de train--> Fraude 9533 , No Fraude: 96552\n",
      "Para un porcentaje de: 0.1  tenemos--> 0.987505106086455 0.12457912457912458 0.1503883456074691\n",
      "En la base de train--> Fraude 14351 , No Fraude: 96552\n",
      "Para un porcentaje de: 0.15  tenemos--> 0.986111444842252 0.12158054711246201 0.1621643318749247\n",
      "En la base de train--> Fraude 19108 , No Fraude: 96552\n",
      "Para un porcentaje de: 0.2  tenemos--> 0.9836364947016845 0.11673151750972764 0.1816111244305922\n",
      "En la base de train--> Fraude 29065 , No Fraude: 96552\n",
      "Para un porcentaje de: 0.3  tenemos--> 0.9650383256842155 0.07853071564281192 0.24239374467755664\n",
      "En la base de train--> Fraude 38647 , No Fraude: 96552\n",
      "Para un porcentaje de: 0.4  tenemos--> 0.9638609222192854 0.07616707616707616 0.24193486071939108\n",
      "En la base de train--> Fraude 48153 , No Fraude: 96552\n",
      "Para un porcentaje de: 0.5  tenemos--> 0.9482423048273542 0.056091148115688 0.24358442928741006\n",
      "\n",
      " Para  8  vecinos:\n",
      "En la base de train--> Fraude 9533 , No Fraude: 96552\n",
      "Para un porcentaje de: 0.1  tenemos--> 0.987505106086455 0.12457912457912458 0.1503883456074691\n",
      "En la base de train--> Fraude 14351 , No Fraude: 96552\n",
      "Para un porcentaje de: 0.15  tenemos--> 0.986111444842252 0.12158054711246201 0.1621643318749247\n",
      "En la base de train--> Fraude 19108 , No Fraude: 96552\n",
      "Para un porcentaje de: 0.2  tenemos--> 0.9836364947016845 0.11673151750972764 0.1816111244305922\n",
      "En la base de train--> Fraude 29065 , No Fraude: 96552\n",
      "Para un porcentaje de: 0.3  tenemos--> 0.9650383256842155 0.07853071564281192 0.24239374467755664\n",
      "En la base de train--> Fraude 38647 , No Fraude: 96552\n",
      "Para un porcentaje de: 0.4  tenemos--> 0.9638609222192854 0.07616707616707616 0.24193486071939108\n",
      "En la base de train--> Fraude 48153 , No Fraude: 96552\n",
      "Para un porcentaje de: 0.5  tenemos--> 0.9482423048273542 0.056091148115688 0.24358442928741006\n",
      "\n",
      " Para  9  vecinos:\n",
      "En la base de train--> Fraude 9533 , No Fraude: 96552\n",
      "Para un porcentaje de: 0.1  tenemos--> 0.987505106086455 0.12457912457912458 0.1503883456074691\n",
      "En la base de train--> Fraude 14351 , No Fraude: 96552\n",
      "Para un porcentaje de: 0.15  tenemos--> 0.986111444842252 0.12158054711246201 0.1621643318749247\n",
      "En la base de train--> Fraude 19108 , No Fraude: 96552\n",
      "Para un porcentaje de: 0.2  tenemos--> 0.9836364947016845 0.11673151750972764 0.1816111244305922\n",
      "En la base de train--> Fraude 29065 , No Fraude: 96552\n",
      "Para un porcentaje de: 0.3  tenemos--> 0.9650383256842155 0.07853071564281192 0.24239374467755664\n",
      "En la base de train--> Fraude 38647 , No Fraude: 96552\n",
      "Para un porcentaje de: 0.4  tenemos--> 0.9638609222192854 0.07616707616707616 0.24193486071939108\n",
      "En la base de train--> Fraude 48153 , No Fraude: 96552\n",
      "Para un porcentaje de: 0.5  tenemos--> 0.9482423048273542 0.056091148115688 0.24358442928741006\n",
      "\n",
      " Para  10  vecinos:\n",
      "En la base de train--> Fraude 9533 , No Fraude: 96552\n",
      "Para un porcentaje de: 0.1  tenemos--> 0.987505106086455 0.12457912457912458 0.1503883456074691\n",
      "En la base de train--> Fraude 14351 , No Fraude: 96552\n",
      "Para un porcentaje de: 0.15  tenemos--> 0.986111444842252 0.12158054711246201 0.1621643318749247\n",
      "En la base de train--> Fraude 19108 , No Fraude: 96552\n",
      "Para un porcentaje de: 0.2  tenemos--> 0.9836364947016845 0.11673151750972764 0.1816111244305922\n",
      "En la base de train--> Fraude 29065 , No Fraude: 96552\n",
      "Para un porcentaje de: 0.3  tenemos--> 0.9650383256842155 0.07853071564281192 0.24239374467755664\n",
      "En la base de train--> Fraude 38647 , No Fraude: 96552\n",
      "Para un porcentaje de: 0.4  tenemos--> 0.9638609222192854 0.07616707616707616 0.24193486071939108\n",
      "En la base de train--> Fraude 48153 , No Fraude: 96552\n",
      "Para un porcentaje de: 0.5  tenemos--> 0.9482423048273542 0.056091148115688 0.24358442928741006\n"
     ]
    }
   ],
   "source": [
    "for n in [5,6, 7, 8, 9, 10]:\n",
    "    print('\\n Para ',n,' vecinos:')\n",
    "    for target_percentage in [0.1,0.15, 0.2, 0.3, 0.4, 0.5]:\n",
    "        ada = ADASYN(target_percentage,random_state=1, n_neighbors = n)\n",
    "        X_porct, y_porct = ada.fit_resample(X_train_s, y_train)\n",
    "        print('En la base de train--> Fraude',(y_porct==1).sum(),', No Fraude:',(y_porct==0).sum())\n",
    "        treecl.fit(X_porct, y_porct)\n",
    "        y_pred_tree = treecl.predict(X_test_s)\n",
    "        Acc_tree5=accuracy_score(y_test, y_pred_tree)\n",
    "        f1s_tree5=f1_score(y_test,y_pred_tree,average='binary')\n",
    "        fbs_tree5=fbeta_score(y_test,y_pred_tree,average='binary', beta = 10)\n",
    "        print('Para un porcentaje de:',target_percentage,' tenemos-->',Acc_tree5, f1s_tree5,fbs_tree5)"
   ]
  },
  {
   "cell_type": "markdown",
   "metadata": {},
   "source": [
    "**Aquí es indiferente el número de vecinos a tener en cuenta y los valores de target_percentage que maximiza el puntaje f beta y f1   cojuntamente usando balanceo con Adasyn es  15 ó 20% con:**\n",
    "- Accuracy ---> 0.98\n",
    "- F1 score --->0.12\n",
    "- Fbeta Score --->0.16"
   ]
  },
  {
   "cell_type": "markdown",
   "metadata": {},
   "source": [
    "# Exercise 15.6 (3 points)\n",
    "\n",
    "Compare and comment about the results"
   ]
  },
  {
   "cell_type": "markdown",
   "metadata": {
    "collapsed": true
   },
   "source": [
    "Conclusiones:\n",
    "1. En todo el desarrollo del notebook, el árbol de clasificación brindó mejores resultados de predición y clasificación.\n",
    "2. Cuando se usó undersampling tanto para la regresión como en el árbol de clasificación, la mejor participación dado por el mejor puntaje obtenido de f1 score y fbeta score fue un porcentaje de la clase minoritaria, transacciones fraudulentas en este caso del 15% para la base de entrenamiento.\n",
    "3. De manera similar, en oversampling lo más conveniente fue el 20%.  \n",
    "Como nos damos cuenta para este ejercicio, no fue necesario llegar a un balanceo 50%/50% porque se obtuvieron mejores valores de clasificación y predicción con un balanceo menor para las transacciones fraudulentas.\n",
    "4. Usando la función SMOTE, se realizó el ejercicio con los dos algoritmos y se puede evidenciar que, si queremos seleccionar el mejor modelo dado por el valor de Fbeta score donde destaco con el valor de beta la precisión (no recall) entonces el numero de vecinos que se debe tener en cuenta es entre 7 y 8 y la ponderación de la base minoritaria sí debe ser 50% para la base de entrenamiento.\n",
    "5. Usando la función ADASYN el número de vecinos parece indiferente, pues no representó cambios en las métricas de evaluación del modelo. Teniendo en cuenta la forma en como trabaja el algortimo donde crea muestras sintéticas que complementa SMOTE con Borderline, requirió tiempo de procesamiento.\n",
    "\n",
    "Finalmente ante estos escenarios de datos desbalanceados, entre mayor es el porcentaje de la clase minoritaria para hacer el entrenamiento, mayor el fbeta score al evaluar el modelo, lo cual es una buena métrica en casos similares de cancer o enfermedad donde se valora realmente la precisión."
   ]
  },
  {
   "cell_type": "markdown",
   "metadata": {},
   "source": [
    "***Por: Ana Milena Rodríguez***"
   ]
  }
 ],
 "metadata": {
  "kernelspec": {
   "display_name": "Python 3",
   "language": "python",
   "name": "python3"
  },
  "language_info": {
   "codemirror_mode": {
    "name": "ipython",
    "version": 3
   },
   "file_extension": ".py",
   "mimetype": "text/x-python",
   "name": "python",
   "nbconvert_exporter": "python",
   "pygments_lexer": "ipython3",
   "version": "3.6.5"
  }
 },
 "nbformat": 4,
 "nbformat_minor": 1
}
